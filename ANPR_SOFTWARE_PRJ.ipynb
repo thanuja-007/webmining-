{
  "nbformat": 4,
  "nbformat_minor": 0,
  "metadata": {
    "colab": {
      "provenance": [],
      "authorship_tag": "ABX9TyMBQi653/9BPzakeu5OKe7i",
      "include_colab_link": true
    },
    "kernelspec": {
      "name": "python3",
      "display_name": "Python 3"
    },
    "language_info": {
      "name": "python"
    }
  },
  "cells": [
    {
      "cell_type": "markdown",
      "metadata": {
        "id": "view-in-github",
        "colab_type": "text"
      },
      "source": [
        "<a href=\"https://colab.research.google.com/github/thanuja-007/webmining-/blob/main/ANPR_SOFTWARE_PRJ.ipynb\" target=\"_parent\"><img src=\"https://colab.research.google.com/assets/colab-badge.svg\" alt=\"Open In Colab\"/></a>"
      ]
    },
    {
      "cell_type": "code",
      "execution_count": 16,
      "metadata": {
        "colab": {
          "base_uri": "https://localhost:8080/"
        },
        "id": "3mhOuaQmC2RC",
        "outputId": "9210aa1f-12e9-4949-e005-5b54da5b4bb4"
      },
      "outputs": [
        {
          "output_type": "stream",
          "name": "stdout",
          "text": [
            "Requirement already satisfied: opencv-python in /usr/local/lib/python3.11/dist-packages (4.11.0.86)\n",
            "Requirement already satisfied: pytesseract in /usr/local/lib/python3.11/dist-packages (0.3.13)\n",
            "Requirement already satisfied: numpy in /usr/local/lib/python3.11/dist-packages (2.0.2)\n",
            "Requirement already satisfied: packaging>=21.3 in /usr/local/lib/python3.11/dist-packages (from pytesseract) (24.2)\n",
            "Requirement already satisfied: Pillow>=8.0.0 in /usr/local/lib/python3.11/dist-packages (from pytesseract) (11.1.0)\n",
            "Reading package lists... Done\n",
            "Building dependency tree... Done\n",
            "Reading state information... Done\n",
            "tesseract-ocr is already the newest version (4.1.1-2.1build1).\n",
            "0 upgraded, 0 newly installed, 0 to remove and 29 not upgraded.\n",
            "Reading package lists... Done\n",
            "Building dependency tree... Done\n",
            "Reading state information... Done\n",
            "libtesseract-dev is already the newest version (4.1.1-2.1build1).\n",
            "0 upgraded, 0 newly installed, 0 to remove and 29 not upgraded.\n"
          ]
        }
      ],
      "source": [
        "# Install OpenCV, PyTesseract, and NumPy\n",
        "!pip install opencv-python pytesseract numpy\n",
        "# Install Tesseract OCR\n",
        "!sudo apt install tesseract-ocr\n",
        "!sudo apt install libtesseract-dev\n",
        "# Set the path to Tesseract executable\n",
        "import pytesseract\n",
        "pytesseract.pytesseract.tesseract_cmd = r'/usr/bin/tesseract'"
      ]
    },
    {
      "cell_type": "code",
      "source": [
        "#verifying the installations\n",
        "import cv2\n",
        "import pytesseract\n",
        "import numpy as np\n",
        "\n",
        "# Check OpenCV version\n",
        "print(\"OpenCV version:\", cv2.__version__)\n",
        "\n",
        "# Check PyTesseract version\n",
        "print(\"PyTesseract version:\", pytesseract.get_tesseract_version())\n",
        "\n",
        "# Check NumPy version\n",
        "print(\"NumPy version:\", np.__version__)"
      ],
      "metadata": {
        "colab": {
          "base_uri": "https://localhost:8080/"
        },
        "id": "21AD4ZukFrjD",
        "outputId": "72188686-b36a-45da-a110-ac1ead490335"
      },
      "execution_count": 17,
      "outputs": [
        {
          "output_type": "stream",
          "name": "stdout",
          "text": [
            "OpenCV version: 4.11.0\n",
            "PyTesseract version: 4.1.1\n",
            "NumPy version: 2.0.2\n"
          ]
        }
      ]
    },
    {
      "cell_type": "markdown",
      "source": [],
      "metadata": {
        "id": "ODkY7_i5DCze"
      }
    },
    {
      "cell_type": "markdown",
      "source": [
        "ANPR CODE\n"
      ],
      "metadata": {
        "id": "syLrSM9rDEfi"
      }
    },
    {
      "cell_type": "code",
      "source": [
        "import cv2\n",
        "import pytesseract\n",
        "import numpy as np\n",
        "\n",
        "\n",
        "\n",
        "# Module 1: Image Preprocessing\n",
        "def preprocess_image(image):\n",
        "    \"\"\"\n",
        "    Preprocess the input image for better number plate detection.\n",
        "    Steps: Convert to grayscale, apply adaptive thresholding, and detect edges.\n",
        "    \"\"\"\n",
        "    # Convert to grayscale\n",
        "    gray = cv2.cvtColor(image, cv2.COLOR_BGR2GRAY)\n",
        "\n",
        "    # Apply adaptive thresholding\n",
        "    thresh = cv2.adaptiveThreshold(gray, 255, cv2.ADAPTIVE_THRESH_GAUSSIAN_C,\n",
        "                                   cv2.THRESH_BINARY, 11, 2)\n",
        "\n",
        "    # Detect edges using Canny edge detection\n",
        "    edges = cv2.Canny(thresh, 100, 200)\n",
        "\n",
        "    return edges\n",
        "\n"
      ],
      "metadata": {
        "id": "vGckqJTWDNjH"
      },
      "execution_count": 18,
      "outputs": []
    },
    {
      "cell_type": "markdown",
      "source": [
        "MOD 2\n"
      ],
      "metadata": {
        "id": "No-Cl-TkDswS"
      }
    },
    {
      "cell_type": "code",
      "source": [
        "# ==============================================\n",
        "# Module 2: Number Plate Localization\n",
        "# ==============================================\n",
        "def locate_number_plate(image):\n",
        "    \"\"\"\n",
        "    Locate the number plate region in the image using contour detection.\n",
        "    \"\"\"\n",
        "    # Find contours in the preprocessed image\n",
        "    contours, _ = cv2.findContours(image, cv2.RETR_TREE, cv2.CHAIN_APPROX_SIMPLE)\n",
        "\n",
        "    # Sort contours by area and select the largest ones\n",
        "    contours = sorted(contours, key=cv2.contourArea, reverse=True)[:10]\n",
        "\n",
        "    # Loop through contours to find the best rectangular contour\n",
        "    number_plate_contour = None\n",
        "    for contour in contours:\n",
        "        # Approximate the contour to a polygon\n",
        "        perimeter = cv2.arcLength(contour, True)\n",
        "        approx = cv2.approxPolyDP(contour, 0.018 * perimeter, True)\n",
        "\n",
        "        # If the contour has 4 vertices, it's likely a rectangle (number plate)\n",
        "        if len(approx) == 4:\n",
        "            number_plate_contour = approx\n",
        "            break\n",
        "\n",
        "    # If no valid contour is found, return None\n",
        "    if number_plate_contour is None:\n",
        "        return None, None\n",
        "\n",
        "    # Get the bounding box of the number plate\n",
        "    x, y, w, h = cv2.boundingRect(number_plate_contour)\n",
        "\n",
        "    # Crop the number plate region\n",
        "    number_plate = image[y:y+h, x:x+w]\n",
        "\n",
        "    return number_plate, (x, y, w, h)"
      ],
      "metadata": {
        "id": "8QMp98mfDuss"
      },
      "execution_count": 25,
      "outputs": []
    },
    {
      "cell_type": "markdown",
      "source": [
        "MOD 3\n"
      ],
      "metadata": {
        "id": "D1TAMMm8D2IF"
      }
    },
    {
      "cell_type": "code",
      "source": [
        "\n",
        "# ==============================================\n",
        "# Module 3: Character Segmentation\n",
        "# ==============================================\n",
        "def segment_characters(number_plate):\n",
        "    \"\"\"\n",
        "    Segment individual characters from the number plate.\n",
        "    \"\"\"\n",
        "    # Apply thresholding to isolate characters\n",
        "    _, binary_plate = cv2.threshold(number_plate, 128, 255, cv2.THRESH_BINARY_INV)\n",
        "\n",
        "    # Find contours of individual characters\n",
        "    contours, _ = cv2.findContours(binary_plate, cv2.RETR_EXTERNAL, cv2.CHAIN_APPROX_SIMPLE)\n",
        "\n",
        "    # Sort contours from left to right\n",
        "    contours = sorted(contours, key=lambda ctr: cv2.boundingRect(ctr)[0])\n",
        "\n",
        "    # Extract each character\n",
        "    characters = []\n",
        "    for contour in contours:\n",
        "        x, y, w, h = cv2.boundingRect(contour)\n",
        "        if h > 20 and w > 10:  # Filter out small contours (noise)\n",
        "            char = number_plate[y:y+h, x:x+w]\n",
        "            characters.append(char)\n",
        "\n",
        "    return characters\n",
        "\n"
      ],
      "metadata": {
        "id": "nhr549V_D31B"
      },
      "execution_count": 26,
      "outputs": []
    },
    {
      "cell_type": "markdown",
      "source": [
        "MOD 4\n"
      ],
      "metadata": {
        "id": "Q8HtTbs2D7v-"
      }
    },
    {
      "cell_type": "code",
      "source": [
        "# ==============================================\n",
        "# Module 4: Character Recognition\n",
        "# ==============================================\n",
        "def recognize_characters(characters):\n",
        "    \"\"\"\n",
        "    Recognize characters using PyTesseract OCR.\n",
        "    \"\"\"\n",
        "    recognized_text = \"\"\n",
        "    for char in characters:\n",
        "        # Preprocess character for better OCR accuracy\n",
        "        char = cv2.resize(char, None, fx=2, fy=2, interpolation=cv2.INTER_CUBIC)\n",
        "        _, char = cv2.threshold(char, 128, 255, cv2.THRESH_BINARY)\n",
        "\n",
        "        # Use PyTesseract to recognize text\n",
        "        text = pytesseract.image_to_string(char, config='--psm 10 --oem 3 -c tessedit_char_whitelist=ABCDEFGHIJKLMNOPQRSTUVWXYZ0123456789')\n",
        "        recognized_text += text.strip()\n",
        "\n",
        "    return recognized_text\n"
      ],
      "metadata": {
        "id": "kOnm2_2kD8s9"
      },
      "execution_count": 27,
      "outputs": []
    },
    {
      "cell_type": "markdown",
      "source": [
        "MOD 5 : MAIN FUNCTION\n"
      ],
      "metadata": {
        "id": "xPxu9khNEAwj"
      }
    },
    {
      "cell_type": "code",
      "source": [
        "\n",
        "# ==============================================\n",
        "# Module 5: Main Function\n",
        "# ==============================================\n",
        "def detect_number_plate(image_path):\n",
        "    \"\"\"\n",
        "    Main function to detect and recognize the number plate from an image.\n",
        "    \"\"\"\n",
        "    # Load the input image\n",
        "    image = cv2.imread(image_path)\n",
        "    if image is None:\n",
        "        print(\"Error: Unable to load image.\")\n",
        "        return\n",
        "\n",
        "    # Step 1: Preprocess the image\n",
        "    edges = preprocess_image(image)\n",
        "\n",
        "    # Step 2: Locate the number plate\n",
        "    number_plate, bbox = locate_number_plate(edges)\n",
        "    if number_plate is None:\n",
        "        print(\"No number plate detected.\")\n",
        "        return\n",
        "\n",
        "    # Step 3: Segment characters from the number plate\n",
        "    characters = segment_characters(number_plate)\n",
        "    if not characters:\n",
        "        print(\"No characters detected.\")\n",
        "        return\n",
        "\n",
        "    # Step 4: Recognize characters using OCR\n",
        "    recognized_text = recognize_characters(characters)\n",
        "\n",
        "    # Display the results\n",
        "    print(f\"Detected Number Plate: {recognized_text}\")\n",
        "\n",
        "    # Draw bounding box around the number plate\n",
        "    x, y, w, h = bbox\n",
        "    cv2.rectangle(image, (x, y), (x+w, y+h), (0, 255, 0), 2)\n",
        "\n",
        "    # Show the output image\n",
        "    cv2.imshow(\"Number Plate Detection\", image)\n",
        "    cv2.waitKey(0)\n",
        "    cv2.destroyAllWindows()\n",
        "\n",
        "# ==============================================\n",
        "# Run the ANPR System\n",
        "# ==============================================\n",
        "if __name__ == \"__main__\":\n",
        "    # Input image path\n",
        "    image_path = \"/content/NO_PLATE_3.png\"\n",
        "    detect_number_plate(image_path)"
      ],
      "metadata": {
        "colab": {
          "base_uri": "https://localhost:8080/"
        },
        "id": "W1d66FgjEC1D",
        "outputId": "016d21ec-305c-4edf-9fa7-00e81cbb19c5"
      },
      "execution_count": 30,
      "outputs": [
        {
          "output_type": "stream",
          "name": "stdout",
          "text": [
            "No number plate detected.\n"
          ]
        }
      ]
    },
    {
      "cell_type": "code",
      "source": [],
      "metadata": {
        "id": "2HcRRzNuEDpG"
      },
      "execution_count": null,
      "outputs": []
    }
  ]
}